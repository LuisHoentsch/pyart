{
 "cells": [
  {
   "cell_type": "code",
   "execution_count": 155,
   "outputs": [],
   "source": [
    "import cv2\n",
    "import numpy as np"
   ],
   "metadata": {
    "collapsed": false
   }
  },
  {
   "cell_type": "code",
   "execution_count": 156,
   "outputs": [],
   "source": [
    "def quantize_cv2(img, k):\n",
    "   x = img.reshape((-1,1))\n",
    "   x = np.float32(x)  # convert to np.float32\n",
    "\n",
    "   criteria = (cv2.TERM_CRITERIA_EPS + cv2.TERM_CRITERIA_MAX_ITER, 10, 1.0)\n",
    "\n",
    "   ret, label, center = cv2.kmeans(x, k, None, criteria, 10, cv2.KMEANS_RANDOM_CENTERS)\n",
    "\n",
    "   # Now convert back into uint8, and make original image\n",
    "   center = np.uint8(center)\n",
    "   res = center[label.flatten()]\n",
    "   res2 = res.reshape(img.shape)\n",
    "   return res2"
   ],
   "metadata": {
    "collapsed": false
   }
  },
  {
   "cell_type": "code",
   "execution_count": 157,
   "outputs": [],
   "source": [
    "def openclose(img, kernel):\n",
    "   open = cv2.morphologyEx(img, cv2.MORPH_OPEN, kernel)\n",
    "   return cv2.morphologyEx(open, cv2.MORPH_CLOSE, kernel)"
   ],
   "metadata": {
    "collapsed": false
   }
  },
  {
   "cell_type": "code",
   "execution_count": 162,
   "outputs": [],
   "source": [
    "def color(img, colora, colorb):\n",
    "   colorgradient = {color: [int(a * (color / 255) + b * (1 - color / 255)) for a, b in zip(colora, colorb)] for color in np.unique(openclose3)}\n",
    "\n",
    "   res = [[colorgradient[img[i][j]] for j in range(len(img[i]))] for i in range(len(img))]\n",
    "\n",
    "   return np.array(res)[:, :, [2, 1, 0]]"
   ],
   "metadata": {
    "collapsed": false
   }
  },
  {
   "cell_type": "code",
   "execution_count": 165,
   "outputs": [],
   "source": [
    "# read input image\n",
    "img = cv2.imread(\"./res/booty.jpg\", cv2.IMREAD_GRAYSCALE)\n",
    "q = quantize_cv2(img, 10)\n",
    "openclose1 = openclose(q, np.ones((2,2),np.uint8))\n",
    "openclose2 = openclose(openclose(q, np.ones((2,2),np.uint8)), np.ones((3,3),np.uint8))\n",
    "openclose3 = openclose(openclose(openclose(q, np.ones((2, 2),np.uint8)), np.ones((3, 3),np.uint8)), np.ones((4, 4),np.uint8))\n",
    "colored = color(openclose3, [255, 190, 118], [48, 51, 107])"
   ],
   "metadata": {
    "collapsed": false
   }
  },
  {
   "cell_type": "code",
   "execution_count": 166,
   "outputs": [
    {
     "data": {
      "text/plain": "True"
     },
     "execution_count": 166,
     "metadata": {},
     "output_type": "execute_result"
    }
   ],
   "source": [
    "cv2.imwrite(\"tmp.png\", colored)"
   ],
   "metadata": {
    "collapsed": false
   }
  }
 ],
 "metadata": {
  "kernelspec": {
   "display_name": "Python 3",
   "language": "python",
   "name": "python3"
  },
  "language_info": {
   "codemirror_mode": {
    "name": "ipython",
    "version": 2
   },
   "file_extension": ".py",
   "mimetype": "text/x-python",
   "name": "python",
   "nbconvert_exporter": "python",
   "pygments_lexer": "ipython2",
   "version": "2.7.6"
  }
 },
 "nbformat": 4,
 "nbformat_minor": 0
}
